{
 "cells": [
  {
   "cell_type": "code",
   "execution_count": 1,
   "id": "72c01fca",
   "metadata": {
    "_cell_guid": "b1076dfc-b9ad-4769-8c92-a6c4dae69d19",
    "_uuid": "8f2839f25d086af736a60e9eeb907d3b93b6e0e5",
    "execution": {
     "iopub.execute_input": "2022-05-01T09:42:49.584164Z",
     "iopub.status.busy": "2022-05-01T09:42:49.583723Z",
     "iopub.status.idle": "2022-05-01T09:42:49.595745Z",
     "shell.execute_reply": "2022-05-01T09:42:49.595117Z"
    },
    "papermill": {
     "duration": 0.052811,
     "end_time": "2022-05-01T09:42:49.597608",
     "exception": false,
     "start_time": "2022-05-01T09:42:49.544797",
     "status": "completed"
    },
    "tags": []
   },
   "outputs": [],
   "source": [
    "# This Python 3 environment comes with many helpful analytics libraries installed\n",
    "# It is defined by the kaggle/python Docker image: https://github.com/kaggle/docker-python\n",
    "# For example, here's several helpful packages to load\n",
    "\n",
    "import numpy as np # linear algebra\n",
    "import pandas as pd # data processing, CSV file I/O (e.g. pd.read_csv)\n",
    "\n",
    "# Input data files are available in the read-only \"../input/\" directory\n",
    "# For example, running this (by clicking run or pressing Shift+Enter) will list all files under the input directory\n",
    "\n",
    "import os\n",
    "for dirname, _, filenames in os.walk('/kaggle/input'):\n",
    "    for filename in filenames:\n",
    "        print(os.path.join(dirname, filename))\n",
    "\n",
    "# You can write up to 20GB to the current directory (/kaggle/working/) that gets preserved as output when you create a version using \"Save & Run All\" \n",
    "# You can also write temporary files to /kaggle/temp/, but they won't be saved outside of the current session"
   ]
  },
  {
   "cell_type": "code",
   "execution_count": 2,
   "id": "68c0ddcb",
   "metadata": {
    "execution": {
     "iopub.execute_input": "2022-05-01T09:42:49.661172Z",
     "iopub.status.busy": "2022-05-01T09:42:49.660949Z",
     "iopub.status.idle": "2022-05-01T09:42:51.231807Z",
     "shell.execute_reply": "2022-05-01T09:42:51.231074Z"
    },
    "papermill": {
     "duration": 1.606901,
     "end_time": "2022-05-01T09:42:51.234142",
     "exception": false,
     "start_time": "2022-05-01T09:42:49.627241",
     "status": "completed"
    },
    "tags": []
   },
   "outputs": [],
   "source": [
    "import torch\n",
    "import numpy as np\n",
    "import torchvision\n",
    "from torchvision.datasets import MNIST\n",
    "from torchvision.transforms import ToTensor\n",
    "from torch.utils.data.sampler import SubsetRandomSampler\n",
    "from torch.utils.data.dataloader import DataLoader"
   ]
  },
  {
   "cell_type": "code",
   "execution_count": 3,
   "id": "401dcb5d",
   "metadata": {
    "execution": {
     "iopub.execute_input": "2022-05-01T09:42:51.294273Z",
     "iopub.status.busy": "2022-05-01T09:42:51.294045Z",
     "iopub.status.idle": "2022-05-01T09:42:52.534790Z",
     "shell.execute_reply": "2022-05-01T09:42:52.534069Z"
    },
    "papermill": {
     "duration": 1.272744,
     "end_time": "2022-05-01T09:42:52.537333",
     "exception": false,
     "start_time": "2022-05-01T09:42:51.264589",
     "status": "completed"
    },
    "tags": []
   },
   "outputs": [
    {
     "name": "stdout",
     "output_type": "stream",
     "text": [
      "Downloading http://yann.lecun.com/exdb/mnist/train-images-idx3-ubyte.gz\n",
      "Downloading http://yann.lecun.com/exdb/mnist/train-images-idx3-ubyte.gz to data/MNIST/raw/train-images-idx3-ubyte.gz\n"
     ]
    },
    {
     "data": {
      "application/vnd.jupyter.widget-view+json": {
       "model_id": "b6f61dce12b34197a4d0cda564fb9a1e",
       "version_major": 2,
       "version_minor": 0
      },
      "text/plain": [
       "  0%|          | 0/9912422 [00:00<?, ?it/s]"
      ]
     },
     "metadata": {},
     "output_type": "display_data"
    },
    {
     "name": "stdout",
     "output_type": "stream",
     "text": [
      "Extracting data/MNIST/raw/train-images-idx3-ubyte.gz to data/MNIST/raw\n",
      "\n",
      "Downloading http://yann.lecun.com/exdb/mnist/train-labels-idx1-ubyte.gz\n",
      "Downloading http://yann.lecun.com/exdb/mnist/train-labels-idx1-ubyte.gz to data/MNIST/raw/train-labels-idx1-ubyte.gz\n"
     ]
    },
    {
     "data": {
      "application/vnd.jupyter.widget-view+json": {
       "model_id": "6fed199ede744c6a850aff2289043d93",
       "version_major": 2,
       "version_minor": 0
      },
      "text/plain": [
       "  0%|          | 0/28881 [00:00<?, ?it/s]"
      ]
     },
     "metadata": {},
     "output_type": "display_data"
    },
    {
     "name": "stdout",
     "output_type": "stream",
     "text": [
      "Extracting data/MNIST/raw/train-labels-idx1-ubyte.gz to data/MNIST/raw\n",
      "\n",
      "Downloading http://yann.lecun.com/exdb/mnist/t10k-images-idx3-ubyte.gz\n",
      "Downloading http://yann.lecun.com/exdb/mnist/t10k-images-idx3-ubyte.gz to data/MNIST/raw/t10k-images-idx3-ubyte.gz\n"
     ]
    },
    {
     "data": {
      "application/vnd.jupyter.widget-view+json": {
       "model_id": "faeb5c4d6d4c480da6bbdb3954f2a185",
       "version_major": 2,
       "version_minor": 0
      },
      "text/plain": [
       "  0%|          | 0/1648877 [00:00<?, ?it/s]"
      ]
     },
     "metadata": {},
     "output_type": "display_data"
    },
    {
     "name": "stdout",
     "output_type": "stream",
     "text": [
      "Extracting data/MNIST/raw/t10k-images-idx3-ubyte.gz to data/MNIST/raw\n",
      "\n",
      "Downloading http://yann.lecun.com/exdb/mnist/t10k-labels-idx1-ubyte.gz\n",
      "Downloading http://yann.lecun.com/exdb/mnist/t10k-labels-idx1-ubyte.gz to data/MNIST/raw/t10k-labels-idx1-ubyte.gz\n"
     ]
    },
    {
     "data": {
      "application/vnd.jupyter.widget-view+json": {
       "model_id": "e8adf17ca33445ffa45685a60f3c5302",
       "version_major": 2,
       "version_minor": 0
      },
      "text/plain": [
       "  0%|          | 0/4542 [00:00<?, ?it/s]"
      ]
     },
     "metadata": {},
     "output_type": "display_data"
    },
    {
     "name": "stdout",
     "output_type": "stream",
     "text": [
      "Extracting data/MNIST/raw/t10k-labels-idx1-ubyte.gz to data/MNIST/raw\n",
      "\n"
     ]
    },
    {
     "name": "stderr",
     "output_type": "stream",
     "text": [
      "/opt/conda/lib/python3.7/site-packages/torchvision/datasets/mnist.py:498: UserWarning: The given NumPy array is not writeable, and PyTorch does not support non-writeable tensors. This means you can write to the underlying (supposedly non-writeable) NumPy array using the tensor. You may want to copy the array to protect its data or make it writeable before converting it to a tensor. This type of warning will be suppressed for the rest of this program. (Triggered internally at  /usr/local/src/pytorch/torch/csrc/utils/tensor_numpy.cpp:174.)\n",
      "  return torch.from_numpy(parsed.astype(m[2], copy=False)).view(*s)\n"
     ]
    }
   ],
   "source": [
    "dataset = MNIST(root='data/', download=True, transform=ToTensor())"
   ]
  },
  {
   "cell_type": "code",
   "execution_count": 4,
   "id": "9ed2d304",
   "metadata": {
    "execution": {
     "iopub.execute_input": "2022-05-01T09:42:52.606539Z",
     "iopub.status.busy": "2022-05-01T09:42:52.605901Z",
     "iopub.status.idle": "2022-05-01T09:42:52.625838Z",
     "shell.execute_reply": "2022-05-01T09:42:52.624820Z"
    },
    "papermill": {
     "duration": 0.055583,
     "end_time": "2022-05-01T09:42:52.627544",
     "exception": false,
     "start_time": "2022-05-01T09:42:52.571961",
     "status": "completed"
    },
    "tags": []
   },
   "outputs": [
    {
     "name": "stdout",
     "output_type": "stream",
     "text": [
      "torch.Size([1, 28, 28]) 5\n"
     ]
    }
   ],
   "source": [
    "len(dataset)\n",
    "img, label = dataset[0]\n",
    "print(img.shape, label)"
   ]
  },
  {
   "cell_type": "code",
   "execution_count": 5,
   "id": "c9c50e10",
   "metadata": {
    "execution": {
     "iopub.execute_input": "2022-05-01T09:42:52.696957Z",
     "iopub.status.busy": "2022-05-01T09:42:52.696400Z",
     "iopub.status.idle": "2022-05-01T09:42:52.900265Z",
     "shell.execute_reply": "2022-05-01T09:42:52.899605Z"
    },
    "papermill": {
     "duration": 0.240987,
     "end_time": "2022-05-01T09:42:52.902118",
     "exception": false,
     "start_time": "2022-05-01T09:42:52.661131",
     "status": "completed"
    },
    "tags": []
   },
   "outputs": [
    {
     "data": {
      "text/plain": [
       "<matplotlib.image.AxesImage at 0x7f443caa4150>"
      ]
     },
     "execution_count": 5,
     "metadata": {},
     "output_type": "execute_result"
    },
    {
     "data": {
      "image/png": "[encoded data removed]",
      "text/plain": [
       "<Figure size 432x288 with 1 Axes>"
      ]
     },
     "metadata": {
      "needs_background": "light"
     },
     "output_type": "display_data"
    }
   ],
   "source": [
    "#displaying the image\n",
    "import matplotlib.pyplot as plt\n",
    "%matplotlib inline\n",
    "plt.imshow(img[0], cmap='gray') #pyplot expects the channel to be at the end so img[0] does that\n"
   ]
  },
  {
   "cell_type": "code",
   "execution_count": 6,
   "id": "0d850f6f",
   "metadata": {
    "execution": {
     "iopub.execute_input": "2022-05-01T09:42:52.984999Z",
     "iopub.status.busy": "2022-05-01T09:42:52.984315Z",
     "iopub.status.idle": "2022-05-01T09:42:52.989542Z",
     "shell.execute_reply": "2022-05-01T09:42:52.988830Z"
    },
    "papermill": {
     "duration": 0.04877,
     "end_time": "2022-05-01T09:42:52.991332",
     "exception": false,
     "start_time": "2022-05-01T09:42:52.942562",
     "status": "completed"
    },
    "tags": []
   },
   "outputs": [],
   "source": [
    "#this function just creates training and validation data indices\n",
    "# received total length of dataset and percentage of data that will be in validation set\n",
    "def split_indices(n, val_pct): \n",
    "    n_val = int(val_pct * n) # 60000 * .2 = 12000\n",
    "    idxs = np.random.permutation(n) # creates a permutation of n numbers i.e 60000\n",
    "    return idxs[n_val:], idxs[:n_val] # training data gets [12000: end] \n",
    "                                      # validation data gets [start: 12000] \n",
    "                                      # from a permutation of n"
   ]
  },
  {
   "cell_type": "code",
   "execution_count": 7,
   "id": "ce8d17b5",
   "metadata": {
    "execution": {
     "iopub.execute_input": "2022-05-01T09:42:53.064210Z",
     "iopub.status.busy": "2022-05-01T09:42:53.063701Z",
     "iopub.status.idle": "2022-05-01T09:42:53.070142Z",
     "shell.execute_reply": "2022-05-01T09:42:53.069414Z"
    },
    "papermill": {
     "duration": 0.044248,
     "end_time": "2022-05-01T09:42:53.072560",
     "exception": false,
     "start_time": "2022-05-01T09:42:53.028312",
     "status": "completed"
    },
    "tags": []
   },
   "outputs": [
    {
     "name": "stdout",
     "output_type": "stream",
     "text": [
      "48000 12000\n",
      "Sample val indices:  [12307 30046 54922  3062 26402 58943 35769 30260 50995 37979 22290 40725\n",
      " 44102 23627 46602 31204 22459 42310 57021 49052]\n"
     ]
    }
   ],
   "source": [
    "train_indices, val_indices = split_indices(len(dataset), val_pct=0.2)\n",
    "\n",
    "print(len(train_indices), len(val_indices))\n",
    "print('Sample val indices: ', val_indices[:20])"
   ]
  },
  {
   "cell_type": "code",
   "execution_count": 8,
   "id": "e69abbf4",
   "metadata": {
    "execution": {
     "iopub.execute_input": "2022-05-01T09:42:53.143980Z",
     "iopub.status.busy": "2022-05-01T09:42:53.143629Z",
     "iopub.status.idle": "2022-05-01T09:42:53.148146Z",
     "shell.execute_reply": "2022-05-01T09:42:53.147473Z"
    },
    "papermill": {
     "duration": 0.041583,
     "end_time": "2022-05-01T09:42:53.149779",
     "exception": false,
     "start_time": "2022-05-01T09:42:53.108196",
     "status": "completed"
    },
    "tags": []
   },
   "outputs": [],
   "source": [
    "# now we need data to be loaded according to the training and validation indicies\n",
    "\n",
    "batch_size = 100\n",
    "\n",
    "#creating training sampler and training dataloader\n",
    "train_sampler = SubsetRandomSampler(train_indices)\n",
    "train_dl = DataLoader(dataset, batch_size, sampler=train_sampler)\n",
    "\n",
    "\n",
    "\n",
    "#creating validation sampler and validation dataloader\n",
    "valid_sampler = SubsetRandomSampler(val_indices)\n",
    "valid_dl = DataLoader(dataset, batch_size, sampler=valid_sampler)"
   ]
  },
  {
   "cell_type": "markdown",
   "id": "c1d89da5",
   "metadata": {
    "papermill": {
     "duration": 0.034768,
     "end_time": "2022-05-01T09:42:53.219795",
     "exception": false,
     "start_time": "2022-05-01T09:42:53.185027",
     "status": "completed"
    },
    "tags": []
   },
   "source": [
    "# ***Creating the MODEL***"
   ]
  },
  {
   "cell_type": "code",
   "execution_count": 9,
   "id": "cba3aae9",
   "metadata": {
    "execution": {
     "iopub.execute_input": "2022-05-01T09:42:53.294199Z",
     "iopub.status.busy": "2022-05-01T09:42:53.293556Z",
     "iopub.status.idle": "2022-05-01T09:42:53.297379Z",
     "shell.execute_reply": "2022-05-01T09:42:53.296580Z"
    },
    "papermill": {
     "duration": 0.042645,
     "end_time": "2022-05-01T09:42:53.299378",
     "exception": false,
     "start_time": "2022-05-01T09:42:53.256733",
     "status": "completed"
    },
    "tags": []
   },
   "outputs": [],
   "source": [
    "import torch.nn.functional as F\n",
    "import torch.nn as nn"
   ]
  },
  {
   "cell_type": "code",
   "execution_count": 10,
   "id": "3cd8a988",
   "metadata": {
    "execution": {
     "iopub.execute_input": "2022-05-01T09:42:53.369370Z",
     "iopub.status.busy": "2022-05-01T09:42:53.369163Z",
     "iopub.status.idle": "2022-05-01T09:42:53.375313Z",
     "shell.execute_reply": "2022-05-01T09:42:53.374654Z"
    },
    "papermill": {
     "duration": 0.04283,
     "end_time": "2022-05-01T09:42:53.376893",
     "exception": false,
     "start_time": "2022-05-01T09:42:53.334063",
     "status": "completed"
    },
    "tags": []
   },
   "outputs": [],
   "source": [
    "class MnistModel(nn.Module):\n",
    "    def __init__(self, in_size, hidden_size, out_size):\n",
    "        super().__init__()\n",
    "        self.linear1 = nn.Linear(in_size, hidden_size)\n",
    "        self.linear2 = nn.Linear(hidden_size, out_size)\n",
    "        \n",
    "        \n",
    "    def forward(self, xb):\n",
    "        #Flattening the image tensors\n",
    "        xb = xb.view(xb.size(0), -1)\n",
    "        out = self.linear1(xb)\n",
    "        \n",
    "        out = F.relu(out)\n",
    "        out = self.linear2(out)\n",
    "        \n",
    "        return out"
   ]
  },
  {
   "cell_type": "code",
   "execution_count": 11,
   "id": "61273a93",
   "metadata": {
    "execution": {
     "iopub.execute_input": "2022-05-01T09:42:53.447475Z",
     "iopub.status.busy": "2022-05-01T09:42:53.447238Z",
     "iopub.status.idle": "2022-05-01T09:42:53.457531Z",
     "shell.execute_reply": "2022-05-01T09:42:53.456923Z"
    },
    "papermill": {
     "duration": 0.047508,
     "end_time": "2022-05-01T09:42:53.459129",
     "exception": false,
     "start_time": "2022-05-01T09:42:53.411621",
     "status": "completed"
    },
    "tags": []
   },
   "outputs": [],
   "source": [
    "input_size = 784\n",
    "num_classes = 10\n",
    "\n",
    "model = MnistModel(input_size, hidden_size=32, out_size= num_classes) #this one uses the super constructor function\n"
   ]
  },
  {
   "cell_type": "code",
   "execution_count": 12,
   "id": "973239ec",
   "metadata": {
    "execution": {
     "iopub.execute_input": "2022-05-01T09:42:53.529702Z",
     "iopub.status.busy": "2022-05-01T09:42:53.529498Z",
     "iopub.status.idle": "2022-05-01T09:42:53.533904Z",
     "shell.execute_reply": "2022-05-01T09:42:53.533250Z"
    },
    "papermill": {
     "duration": 0.042014,
     "end_time": "2022-05-01T09:42:53.535906",
     "exception": false,
     "start_time": "2022-05-01T09:42:53.493892",
     "status": "completed"
    },
    "tags": []
   },
   "outputs": [
    {
     "name": "stdout",
     "output_type": "stream",
     "text": [
      "torch.Size([32, 784])\n",
      "torch.Size([32])\n",
      "torch.Size([10, 32])\n",
      "torch.Size([10])\n"
     ]
    }
   ],
   "source": [
    "for t in model.parameters():\n",
    "    print(t.shape)\n",
    "\n",
    "# it is stored in transpose form row becomes columns"
   ]
  },
  {
   "cell_type": "code",
   "execution_count": 13,
   "id": "365adf66",
   "metadata": {
    "execution": {
     "iopub.execute_input": "2022-05-01T09:42:53.606633Z",
     "iopub.status.busy": "2022-05-01T09:42:53.606413Z",
     "iopub.status.idle": "2022-05-01T09:42:53.870101Z",
     "shell.execute_reply": "2022-05-01T09:42:53.869029Z"
    },
    "papermill": {
     "duration": 0.302017,
     "end_time": "2022-05-01T09:42:53.872609",
     "exception": false,
     "start_time": "2022-05-01T09:42:53.570592",
     "status": "completed"
    },
    "tags": []
   },
   "outputs": [
    {
     "name": "stdout",
     "output_type": "stream",
     "text": [
      "images.shape  torch.Size([100, 1, 28, 28])\n",
      "Loss:- 2.3249289989471436\n",
      "outputs.shape :  torch.Size([100, 10])\n",
      "Sample outputs :\n",
      " tensor([[-0.3274, -0.0533, -0.1728,  0.0590, -0.1703, -0.0429, -0.0899,  0.1573,\n",
      "          0.1217,  0.1853],\n",
      "        [-0.1665, -0.1434, -0.1744,  0.1309, -0.1303,  0.0157, -0.0302,  0.0915,\n",
      "          0.2020,  0.1774]])\n"
     ]
    }
   ],
   "source": [
    "for images, labels in train_dl:\n",
    "    print('images.shape ', images.shape)\n",
    "    outputs = model(images) #this one is calling the forward function with a batch of data\n",
    "    loss = F.cross_entropy(outputs, labels)\n",
    "    print('Loss:-', loss.item())\n",
    "    break\n",
    "\n",
    "print('outputs.shape : ', outputs.shape)\n",
    "print('Sample outputs :\\n', outputs[:2].data)\n",
    "    \n",
    "    "
   ]
  },
  {
   "cell_type": "markdown",
   "id": "e8d814ca",
   "metadata": {
    "papermill": {
     "duration": 0.038194,
     "end_time": "2022-05-01T09:42:53.952106",
     "exception": false,
     "start_time": "2022-05-01T09:42:53.913912",
     "status": "completed"
    },
    "tags": []
   },
   "source": [
    "# ****USING THE GPU****"
   ]
  },
  {
   "cell_type": "code",
   "execution_count": 14,
   "id": "431b263e",
   "metadata": {
    "execution": {
     "iopub.execute_input": "2022-05-01T09:42:54.026473Z",
     "iopub.status.busy": "2022-05-01T09:42:54.025825Z",
     "iopub.status.idle": "2022-05-01T09:42:54.086236Z",
     "shell.execute_reply": "2022-05-01T09:42:54.085569Z"
    },
    "papermill": {
     "duration": 0.098989,
     "end_time": "2022-05-01T09:42:54.088164",
     "exception": false,
     "start_time": "2022-05-01T09:42:53.989175",
     "status": "completed"
    },
    "tags": []
   },
   "outputs": [
    {
     "data": {
      "text/plain": [
       "True"
      ]
     },
     "execution_count": 14,
     "metadata": {},
     "output_type": "execute_result"
    }
   ],
   "source": [
    "torch.cuda.is_available()"
   ]
  },
  {
   "cell_type": "code",
   "execution_count": 15,
   "id": "b7551a14",
   "metadata": {
    "execution": {
     "iopub.execute_input": "2022-05-01T09:42:54.161754Z",
     "iopub.status.busy": "2022-05-01T09:42:54.161526Z",
     "iopub.status.idle": "2022-05-01T09:42:54.165390Z",
     "shell.execute_reply": "2022-05-01T09:42:54.164727Z"
    },
    "papermill": {
     "duration": 0.042156,
     "end_time": "2022-05-01T09:42:54.166968",
     "exception": false,
     "start_time": "2022-05-01T09:42:54.124812",
     "status": "completed"
    },
    "tags": []
   },
   "outputs": [],
   "source": [
    "def get_default_device():\n",
    "    if torch.cuda.is_available():\n",
    "        return torch.device('cuda')\n",
    "    else:\n",
    "        return torch.device('cpu')"
   ]
  },
  {
   "cell_type": "code",
   "execution_count": 16,
   "id": "fcd8a6ab",
   "metadata": {
    "execution": {
     "iopub.execute_input": "2022-05-01T09:42:54.238654Z",
     "iopub.status.busy": "2022-05-01T09:42:54.238073Z",
     "iopub.status.idle": "2022-05-01T09:42:54.242784Z",
     "shell.execute_reply": "2022-05-01T09:42:54.242168Z"
    },
    "papermill": {
     "duration": 0.042388,
     "end_time": "2022-05-01T09:42:54.244501",
     "exception": false,
     "start_time": "2022-05-01T09:42:54.202113",
     "status": "completed"
    },
    "tags": []
   },
   "outputs": [
    {
     "data": {
      "text/plain": [
       "device(type='cuda')"
      ]
     },
     "execution_count": 16,
     "metadata": {},
     "output_type": "execute_result"
    }
   ],
   "source": [
    "device = get_default_device()\n",
    "device"
   ]
  },
  {
   "cell_type": "code",
   "execution_count": 17,
   "id": "d2c7b493",
   "metadata": {
    "execution": {
     "iopub.execute_input": "2022-05-01T09:42:54.317694Z",
     "iopub.status.busy": "2022-05-01T09:42:54.317073Z",
     "iopub.status.idle": "2022-05-01T09:42:54.321444Z",
     "shell.execute_reply": "2022-05-01T09:42:54.320803Z"
    },
    "papermill": {
     "duration": 0.043138,
     "end_time": "2022-05-01T09:42:54.323128",
     "exception": false,
     "start_time": "2022-05-01T09:42:54.279990",
     "status": "completed"
    },
    "tags": []
   },
   "outputs": [],
   "source": [
    "def to_device(data, device):\n",
    "    if isinstance(data, (list,tuple)):\n",
    "        return [to_device(x,device) for x in data]\n",
    "    \n",
    "    return data.to(device, non_blocking=True)"
   ]
  },
  {
   "cell_type": "code",
   "execution_count": 18,
   "id": "81a6f3ad",
   "metadata": {
    "execution": {
     "iopub.execute_input": "2022-05-01T09:42:54.395992Z",
     "iopub.status.busy": "2022-05-01T09:42:54.395460Z",
     "iopub.status.idle": "2022-05-01T09:42:57.223801Z",
     "shell.execute_reply": "2022-05-01T09:42:57.220983Z"
    },
    "papermill": {
     "duration": 2.866595,
     "end_time": "2022-05-01T09:42:57.225595",
     "exception": false,
     "start_time": "2022-05-01T09:42:54.359000",
     "status": "completed"
    },
    "tags": []
   },
   "outputs": [
    {
     "name": "stdout",
     "output_type": "stream",
     "text": [
      "torch.Size([100, 1, 28, 28])\n",
      "cuda:0\n"
     ]
    }
   ],
   "source": [
    "for images, labels in train_dl:\n",
    "    print(images.shape)\n",
    "    images = to_device(images, device)\n",
    "    print(images.device)\n",
    "    break"
   ]
  },
  {
   "cell_type": "code",
   "execution_count": 19,
   "id": "e8c65497",
   "metadata": {
    "execution": {
     "iopub.execute_input": "2022-05-01T09:42:57.300613Z",
     "iopub.status.busy": "2022-05-01T09:42:57.299923Z",
     "iopub.status.idle": "2022-05-01T09:42:57.305419Z",
     "shell.execute_reply": "2022-05-01T09:42:57.304800Z"
    },
    "papermill": {
     "duration": 0.04484,
     "end_time": "2022-05-01T09:42:57.307132",
     "exception": false,
     "start_time": "2022-05-01T09:42:57.262292",
     "status": "completed"
    },
    "tags": []
   },
   "outputs": [],
   "source": [
    "class DeviceDataLoader():\n",
    "    def __init__(self, dl, device):\n",
    "        self.dl = dl\n",
    "        self.device = device\n",
    "        \n",
    "    def __iter__(self):\n",
    "        for b in self.dl:\n",
    "            yield to_device(b, self.device)\n",
    "            \n",
    "    def __len__(self):\n",
    "        return len(self.dl)"
   ]
  },
  {
   "cell_type": "code",
   "execution_count": 20,
   "id": "f5d1cff5",
   "metadata": {
    "execution": {
     "iopub.execute_input": "2022-05-01T09:42:57.380976Z",
     "iopub.status.busy": "2022-05-01T09:42:57.380414Z",
     "iopub.status.idle": "2022-05-01T09:42:57.384022Z",
     "shell.execute_reply": "2022-05-01T09:42:57.383338Z"
    },
    "papermill": {
     "duration": 0.042303,
     "end_time": "2022-05-01T09:42:57.385632",
     "exception": false,
     "start_time": "2022-05-01T09:42:57.343329",
     "status": "completed"
    },
    "tags": []
   },
   "outputs": [],
   "source": [
    "train_dl = DeviceDataLoader(train_dl, device)\n",
    "valid_dl = DeviceDataLoader(valid_dl, device)"
   ]
  },
  {
   "cell_type": "code",
   "execution_count": 21,
   "id": "49b08399",
   "metadata": {
    "execution": {
     "iopub.execute_input": "2022-05-01T09:42:57.459614Z",
     "iopub.status.busy": "2022-05-01T09:42:57.459027Z",
     "iopub.status.idle": "2022-05-01T09:42:57.483304Z",
     "shell.execute_reply": "2022-05-01T09:42:57.482599Z"
    },
    "papermill": {
     "duration": 0.063493,
     "end_time": "2022-05-01T09:42:57.485245",
     "exception": false,
     "start_time": "2022-05-01T09:42:57.421752",
     "status": "completed"
    },
    "tags": []
   },
   "outputs": [
    {
     "name": "stdout",
     "output_type": "stream",
     "text": [
      "xb.device:  cuda:0\n",
      "yb.device:  cuda:0\n"
     ]
    }
   ],
   "source": [
    "for xb, yb in valid_dl:\n",
    "    print('xb.device: ', xb.device)\n",
    "    print('yb.device: ', yb.device)\n",
    "    break\n",
    "    "
   ]
  },
  {
   "cell_type": "code",
   "execution_count": 22,
   "id": "276491d6",
   "metadata": {
    "execution": {
     "iopub.execute_input": "2022-05-01T09:42:57.559931Z",
     "iopub.status.busy": "2022-05-01T09:42:57.559599Z",
     "iopub.status.idle": "2022-05-01T09:42:57.564991Z",
     "shell.execute_reply": "2022-05-01T09:42:57.564297Z"
    },
    "papermill": {
     "duration": 0.044699,
     "end_time": "2022-05-01T09:42:57.566613",
     "exception": false,
     "start_time": "2022-05-01T09:42:57.521914",
     "status": "completed"
    },
    "tags": []
   },
   "outputs": [],
   "source": [
    "#loss batch function calculates loss, metric and perfomrs gradient descent if optimizer is given\n",
    "\n",
    "def loss_batch(model, loss_func, xb, yb, opt=None, metric=None):\n",
    "    #generate predictions\n",
    "    preds = model(xb)\n",
    "    #calculate loss\n",
    "    loss = loss_func(preds, yb)\n",
    "    \n",
    "    if opt is not None:\n",
    "        #gradient calculation\n",
    "        loss.backward()\n",
    "        #update  parameters\n",
    "        opt.step()\n",
    "        #set gradients to zero\n",
    "        opt.zero_grad()\n",
    "        \n",
    "    metric_result = None\n",
    "    if metric is not None:\n",
    "        #metric calculation\n",
    "        metric_result = metric(preds, yb)\n",
    "    \n",
    "    return loss.item(), len(xb), metric_result\n",
    "        "
   ]
  },
  {
   "cell_type": "code",
   "execution_count": 23,
   "id": "dfad0887",
   "metadata": {
    "execution": {
     "iopub.execute_input": "2022-05-01T09:42:57.640913Z",
     "iopub.status.busy": "2022-05-01T09:42:57.640347Z",
     "iopub.status.idle": "2022-05-01T09:42:57.646354Z",
     "shell.execute_reply": "2022-05-01T09:42:57.645686Z"
    },
    "papermill": {
     "duration": 0.044828,
     "end_time": "2022-05-01T09:42:57.647933",
     "exception": false,
     "start_time": "2022-05-01T09:42:57.603105",
     "status": "completed"
    },
    "tags": []
   },
   "outputs": [],
   "source": [
    "# evaluate function\n",
    "\n",
    "def evaluate(model, loss_fn, valid_dl, metric=None):\n",
    "    with torch.no_grad():\n",
    "        results = [loss_batch(model, loss_fn, xb, yb, metric=metric)\n",
    "                   for xb, yb, in valid_dl]\n",
    "        \n",
    "        losses, nums, metrics = zip(*results)\n",
    "        \n",
    "        total = np.sum(nums)\n",
    "        \n",
    "        avg_loss = np.sum(np.multiply(losses, nums)) / total\n",
    "        avg_metric = None\n",
    "        \n",
    "        if metric is not None:\n",
    "            avg_metric = np.sum(np.multiply(metrics, nums)) / total\n",
    "            \n",
    "    return avg_loss, total, avg_metric"
   ]
  },
  {
   "cell_type": "code",
   "execution_count": 24,
   "id": "d96794ce",
   "metadata": {
    "execution": {
     "iopub.execute_input": "2022-05-01T09:42:57.723489Z",
     "iopub.status.busy": "2022-05-01T09:42:57.723246Z",
     "iopub.status.idle": "2022-05-01T09:42:57.731211Z",
     "shell.execute_reply": "2022-05-01T09:42:57.730525Z"
    },
    "papermill": {
     "duration": 0.047475,
     "end_time": "2022-05-01T09:42:57.733022",
     "exception": false,
     "start_time": "2022-05-01T09:42:57.685547",
     "status": "completed"
    },
    "tags": []
   },
   "outputs": [],
   "source": [
    "# fit function has the training loop\n",
    "# takes epochs learning rate \n",
    "def fit(epochs, lr, model, loss_fn, train_dl, \n",
    "        valid_dl, metric=None, opt_fn=None):\n",
    "    losses, metrics = [], []\n",
    "    \n",
    "    if opt_fn is None: \n",
    "        opt_fn = torch.optim.SGD\n",
    "    opt = torch.optim.SGD(model.parameters(), lr=lr)\n",
    "    \n",
    "    for epoch in range(epochs):\n",
    "        for xb, yb in train_dl:\n",
    "            loss_batch(model, loss_fn, xb, yb, opt)\n",
    "            \n",
    "        result = evaluate(model, loss_fn, valid_dl, metric)\n",
    "        val_loss, total, val_metric = result\n",
    "        \n",
    "        losses.append(val_loss)\n",
    "        metrics.append(val_metric)\n",
    "        \n",
    "        if metric is None:\n",
    "            print('Epoch [{}/{}], Loss: {:.4f}' \n",
    "                  .format(epoch+1, epochs, val_loss))\n",
    "        else:\n",
    "            print('Epoch [{}/{}], Loss: {:.4f}, {}: {:.4f}' \n",
    "                  .format(epoch+1, epochs, val_loss,\n",
    "                         metric.__name__, val_metric))\n",
    "    return losses, metrics\n",
    "     \n",
    "        "
   ]
  },
  {
   "cell_type": "code",
   "execution_count": 25,
   "id": "7542349d",
   "metadata": {
    "execution": {
     "iopub.execute_input": "2022-05-01T09:42:57.807581Z",
     "iopub.status.busy": "2022-05-01T09:42:57.807350Z",
     "iopub.status.idle": "2022-05-01T09:42:57.811466Z",
     "shell.execute_reply": "2022-05-01T09:42:57.810810Z"
    },
    "papermill": {
     "duration": 0.043189,
     "end_time": "2022-05-01T09:42:57.813087",
     "exception": false,
     "start_time": "2022-05-01T09:42:57.769898",
     "status": "completed"
    },
    "tags": []
   },
   "outputs": [],
   "source": [
    "def accuracy(outputs, labels):\n",
    "    _, preds = torch.max(outputs, dim=1)\n",
    "    return torch.sum(preds == labels).item() / len(preds)"
   ]
  },
  {
   "cell_type": "code",
   "execution_count": 26,
   "id": "fb38d74f",
   "metadata": {
    "execution": {
     "iopub.execute_input": "2022-05-01T09:42:57.887155Z",
     "iopub.status.busy": "2022-05-01T09:42:57.886944Z",
     "iopub.status.idle": "2022-05-01T09:42:57.894497Z",
     "shell.execute_reply": "2022-05-01T09:42:57.893785Z"
    },
    "papermill": {
     "duration": 0.046681,
     "end_time": "2022-05-01T09:42:57.896198",
     "exception": false,
     "start_time": "2022-05-01T09:42:57.849517",
     "status": "completed"
    },
    "tags": []
   },
   "outputs": [
    {
     "data": {
      "text/plain": [
       "MnistModel(\n",
       "  (linear1): Linear(in_features=784, out_features=32, bias=True)\n",
       "  (linear2): Linear(in_features=32, out_features=10, bias=True)\n",
       ")"
      ]
     },
     "execution_count": 26,
     "metadata": {},
     "output_type": "execute_result"
    }
   ],
   "source": [
    "model = MnistModel(input_size, hidden_size=32, out_size=num_classes)\n",
    "to_device(model, device)"
   ]
  },
  {
   "cell_type": "code",
   "execution_count": 27,
   "id": "0f60ad2c",
   "metadata": {
    "execution": {
     "iopub.execute_input": "2022-05-01T09:42:57.971304Z",
     "iopub.status.busy": "2022-05-01T09:42:57.970605Z",
     "iopub.status.idle": "2022-05-01T09:42:59.765994Z",
     "shell.execute_reply": "2022-05-01T09:42:59.765261Z"
    },
    "papermill": {
     "duration": 1.835906,
     "end_time": "2022-05-01T09:42:59.768720",
     "exception": false,
     "start_time": "2022-05-01T09:42:57.932814",
     "status": "completed"
    },
    "tags": []
   },
   "outputs": [
    {
     "name": "stdout",
     "output_type": "stream",
     "text": [
      "Loss: 2.3232, Accuracy: 0.111500\n"
     ]
    }
   ],
   "source": [
    "val_loss, total, val_acc = evaluate(model, F.cross_entropy, valid_dl, metric=accuracy)\n",
    "print('Loss: {:.4f}, Accuracy: {:4f}' .format(val_loss, val_acc))"
   ]
  },
  {
   "cell_type": "code",
   "execution_count": 28,
   "id": "b8c68907",
   "metadata": {
    "execution": {
     "iopub.execute_input": "2022-05-01T09:42:59.847486Z",
     "iopub.status.busy": "2022-05-01T09:42:59.847133Z",
     "iopub.status.idle": "2022-05-01T09:43:26.529155Z",
     "shell.execute_reply": "2022-05-01T09:43:26.527469Z"
    },
    "papermill": {
     "duration": 26.723238,
     "end_time": "2022-05-01T09:43:26.531736",
     "exception": false,
     "start_time": "2022-05-01T09:42:59.808498",
     "status": "completed"
    },
    "tags": []
   },
   "outputs": [
    {
     "name": "stdout",
     "output_type": "stream",
     "text": [
      "Epoch [1/5], Loss: 0.2274, accuracy: 0.9309\n",
      "Epoch [2/5], Loss: 0.1823, accuracy: 0.9447\n",
      "Epoch [3/5], Loss: 0.1641, accuracy: 0.9515\n",
      "Epoch [4/5], Loss: 0.1551, accuracy: 0.9541\n",
      "Epoch [5/5], Loss: 0.1585, accuracy: 0.9544\n"
     ]
    }
   ],
   "source": [
    "losses1, metrics1 = fit(5, 0.5, model, F.cross_entropy, \n",
    "                        train_dl, valid_dl, accuracy)"
   ]
  },
  {
   "cell_type": "code",
   "execution_count": 29,
   "id": "85a668eb",
   "metadata": {
    "execution": {
     "iopub.execute_input": "2022-05-01T09:43:26.613471Z",
     "iopub.status.busy": "2022-05-01T09:43:26.613236Z",
     "iopub.status.idle": "2022-05-01T09:43:52.952796Z",
     "shell.execute_reply": "2022-05-01T09:43:52.950963Z"
    },
    "papermill": {
     "duration": 26.381864,
     "end_time": "2022-05-01T09:43:52.955011",
     "exception": false,
     "start_time": "2022-05-01T09:43:26.573147",
     "status": "completed"
    },
    "tags": []
   },
   "outputs": [
    {
     "name": "stdout",
     "output_type": "stream",
     "text": [
      "Epoch [1/5], Loss: 0.1300, accuracy: 0.9631\n",
      "Epoch [2/5], Loss: 0.1296, accuracy: 0.9633\n",
      "Epoch [3/5], Loss: 0.1276, accuracy: 0.9637\n",
      "Epoch [4/5], Loss: 0.1314, accuracy: 0.9630\n",
      "Epoch [5/5], Loss: 0.1272, accuracy: 0.9640\n"
     ]
    }
   ],
   "source": [
    "losses2, metrics2 = fit(5, 0.1, model, F.cross_entropy, \n",
    "                        train_dl, valid_dl, accuracy)"
   ]
  },
  {
   "cell_type": "code",
   "execution_count": 30,
   "id": "7a0ee8af",
   "metadata": {
    "execution": {
     "iopub.execute_input": "2022-05-01T09:43:53.045060Z",
     "iopub.status.busy": "2022-05-01T09:43:53.044818Z",
     "iopub.status.idle": "2022-05-01T09:44:19.244142Z",
     "shell.execute_reply": "2022-05-01T09:44:19.243410Z"
    },
    "papermill": {
     "duration": 26.247008,
     "end_time": "2022-05-01T09:44:19.246666",
     "exception": false,
     "start_time": "2022-05-01T09:43:52.999658",
     "status": "completed"
    },
    "tags": []
   },
   "outputs": [
    {
     "name": "stdout",
     "output_type": "stream",
     "text": [
      "Epoch [1/5], Loss: 0.1272, accuracy: 0.9640\n",
      "Epoch [2/5], Loss: 0.1272, accuracy: 0.9640\n",
      "Epoch [3/5], Loss: 0.1272, accuracy: 0.9640\n",
      "Epoch [4/5], Loss: 0.1272, accuracy: 0.9640\n",
      "Epoch [5/5], Loss: 0.1272, accuracy: 0.9640\n"
     ]
    }
   ],
   "source": [
    "losses3, metrics3 = fit(5, 0.000001, model, F.cross_entropy, \n",
    "                        train_dl, valid_dl, accuracy)"
   ]
  },
  {
   "cell_type": "code",
   "execution_count": 31,
   "id": "a76d532b",
   "metadata": {
    "execution": {
     "iopub.execute_input": "2022-05-01T09:44:19.368360Z",
     "iopub.status.busy": "2022-05-01T09:44:19.368016Z",
     "iopub.status.idle": "2022-05-01T09:44:19.372680Z",
     "shell.execute_reply": "2022-05-01T09:44:19.371960Z"
    },
    "papermill": {
     "duration": 0.087344,
     "end_time": "2022-05-01T09:44:19.376243",
     "exception": false,
     "start_time": "2022-05-01T09:44:19.288899",
     "status": "completed"
    },
    "tags": []
   },
   "outputs": [],
   "source": [
    "import matplotlib.pyplot as plt"
   ]
  },
  {
   "cell_type": "code",
   "execution_count": 32,
   "id": "8b8bc387",
   "metadata": {
    "execution": {
     "iopub.execute_input": "2022-05-01T09:44:19.523785Z",
     "iopub.status.busy": "2022-05-01T09:44:19.523377Z",
     "iopub.status.idle": "2022-05-01T09:44:19.790907Z",
     "shell.execute_reply": "2022-05-01T09:44:19.790218Z"
    },
    "papermill": {
     "duration": 0.339172,
     "end_time": "2022-05-01T09:44:19.793065",
     "exception": false,
     "start_time": "2022-05-01T09:44:19.453893",
     "status": "completed"
    },
    "tags": []
   },
   "outputs": [
    {
     "data": {
      "text/plain": [
       "Text(0.5, 1.0, 'ACCURACY VS #ofEPOCHS')"
      ]
     },
     "execution_count": 32,
     "metadata": {},
     "output_type": "execute_result"
    },
    {
     "data": {
      "image/png": "[encoded data removed]",
      "text/plain": [
       "<Figure size 432x288 with 1 Axes>"
      ]
     },
     "metadata": {
      "needs_background": "light"
     },
     "output_type": "display_data"
    }
   ],
   "source": [
    "accuracies = [val_acc] + metrics1 + metrics2 + metrics3 \n",
    "\n",
    "plt.plot(accuracies, '-x')\n",
    "plt.xlabel('epoch')\n",
    "plt.ylabel('accuray')\n",
    "plt.title(\"ACCURACY VS #ofEPOCHS\")"
   ]
  },
  {
   "cell_type": "code",
   "execution_count": null,
   "id": "5f55cfbe",
   "metadata": {
    "papermill": {
     "duration": 0.066084,
     "end_time": "2022-05-01T09:44:19.934094",
     "exception": false,
     "start_time": "2022-05-01T09:44:19.868010",
     "status": "completed"
    },
    "tags": []
   },
   "outputs": [],
   "source": []
  }
 ],
 "metadata": {
  "kernelspec": {
   "display_name": "Python 3",
   "language": "python",
   "name": "python3"
  },
  "language_info": {
   "codemirror_mode": {
    "name": "ipython",
    "version": 3
   },
   "file_extension": ".py",
   "mimetype": "text/x-python",
   "name": "python",
   "nbconvert_exporter": "python",
   "pygments_lexer": "ipython3",
   "version": "3.7.12"
  },
  "papermill": {
   "default_parameters": {},
   "duration": 99.290671,
   "end_time": "2022-05-01T09:44:20.999670",
   "environment_variables": {},
   "exception": null,
   "input_path": "__notebook__.ipynb",
   "output_path": "__notebook__.ipynb",
   "parameters": {},
   "start_time": "2022-05-01T09:42:41.708999",
   "version": "2.3.4"
  },
  "widgets": {
   "application/vnd.jupyter.widget-state+json": {
    "state": {
     "05fa833e313e4ca98220d472e69dbf03": {
      "model_module": "@jupyter-widgets/controls",
      "model_module_version": "1.5.0",
      "model_name": "HTMLModel",
      "state": {
       "_dom_classes": [],
       "_model_module": "@jupyter-widgets/controls",
       "_model_module_version": "1.5.0",
       "_model_name": "HTMLModel",
       "_view_count": null,
       "_view_module": "@jupyter-widgets/controls",
       "_view_module_version": "1.5.0",
       "_view_name": "HTMLView",
       "description": "",
       "description_tooltip": null,
       "layout": "IPY_MODEL_5192a1df97fe4be396aa8b50c356f518",
       "placeholder": "​",
       "style": "IPY_MODEL_e86bc0230b774ae6a464c5f8313a7250",
       "value": ""
      }
     },
     "0aa2009947e640d49032fece6132d430": {
      "model_module": "@jupyter-widgets/controls",
      "model_module_version": "1.5.0",
      "model_name": "HTMLModel",
      "state": {
       "_dom_classes": [],
       "_model_module": "@jupyter-widgets/controls",
       "_model_module_version": "1.5.0",
       "_model_name": "HTMLModel",
       "_view_count": null,
       "_view_module": "@jupyter-widgets/controls",
       "_view_module_version": "1.5.0",
       "_view_name": "HTMLView",
       "description": "",
       "description_tooltip": null,
       "layout": "IPY_MODEL_c471922b44184085a3ef0a76865d430b",
       "placeholder": "​",
       "style": "IPY_MODEL_259b11e57a4745939adbd7a597dedebd",
       "value": " 9913344/? [00:00&lt;00:00, 48426895.45it/s]"
      }
     },
     "0da5e86fe45543d2b2fe78faf31de09d": {
      "model_module": "@jupyter-widgets/controls",
      "model_module_version": "1.5.0",
      "model_name": "HTMLModel",
      "state": {
       "_dom_classes": [],
       "_model_module": "@jupyter-widgets/controls",
       "_model_module_version": "1.5.0",
       "_model_name": "HTMLModel",
       "_view_count": null,
       "_view_module": "@jupyter-widgets/controls",
       "_view_module_version": "1.5.0",
       "_view_name": "HTMLView",
       "description": "",
       "description_tooltip": null,
       "layout": "IPY_MODEL_cbbc54b6117d4c03a8c2097000464d89",
       "placeholder": "​",
       "style": "IPY_MODEL_3ef7b37b6b264e9882a0ea305cd19a97",
       "value": " 5120/? [00:00&lt;00:00, 220982.27it/s]"
      }
     },
     "12e893433c0340a7bc914e2f0e5f3e18": {
      "model_module": "@jupyter-widgets/base",
      "model_module_version": "1.2.0",
      "model_name": "LayoutModel",
      "state": {
       "_model_module": "@jupyter-widgets/base",
       "_model_module_version": "1.2.0",
       "_model_name": "LayoutModel",
       "_view_count": null,
       "_view_module": "@jupyter-widgets/base",
       "_view_module_version": "1.2.0",
       "_view_name": "LayoutView",
       "align_content": null,
       "align_items": null,
       "align_self": null,
       "border": null,
       "bottom": null,
       "display": null,
       "flex": null,
       "flex_flow": null,
       "grid_area": null,
       "grid_auto_columns": null,
       "grid_auto_flow": null,
       "grid_auto_rows": null,
       "grid_column": null,
       "grid_gap": null,
       "grid_row": null,
       "grid_template_areas": null,
       "grid_template_columns": null,
       "grid_template_rows": null,
       "height": null,
       "justify_content": null,
       "justify_items": null,
       "left": null,
       "margin": null,
       "max_height": null,
       "max_width": null,
       "min_height": null,
       "min_width": null,
       "object_fit": null,
       "object_position": null,
       "order": null,
       "overflow": null,
       "overflow_x": null,
       "overflow_y": null,
       "padding": null,
       "right": null,
       "top": null,
       "visibility": null,
       "width": null
      }
     },
     "13f2e07b0f1b47f9a64d7beeaf70fa48": {
      "model_module": "@jupyter-widgets/base",
      "model_module_version": "1.2.0",
      "model_name": "LayoutModel",
      "state": {
       "_model_module": "@jupyter-widgets/base",
       "_model_module_version": "1.2.0",
       "_model_name": "LayoutModel",
       "_view_count": null,
       "_view_module": "@jupyter-widgets/base",
       "_view_module_version": "1.2.0",
       "_view_name": "LayoutView",
       "align_content": null,
       "align_items": null,
       "align_self": null,
       "border": null,
       "bottom": null,
       "display": null,
       "flex": null,
       "flex_flow": null,
       "grid_area": null,
       "grid_auto_columns": null,
       "grid_auto_flow": null,
       "grid_auto_rows": null,
       "grid_column": null,
       "grid_gap": null,
       "grid_row": null,
       "grid_template_areas": null,
       "grid_template_columns": null,
       "grid_template_rows": null,
       "height": null,
       "justify_content": null,
       "justify_items": null,
       "left": null,
       "margin": null,
       "max_height": null,
       "max_width": null,
       "min_height": null,
       "min_width": null,
       "object_fit": null,
       "object_position": null,
       "order": null,
       "overflow": null,
       "overflow_x": null,
       "overflow_y": null,
       "padding": null,
       "right": null,
       "top": null,
       "visibility": null,
       "width": null
      }
     },
     "179283c5bb6d4fc799f69fdb77a4b743": {
      "model_module": "@jupyter-widgets/controls",
      "model_module_version": "1.5.0",
      "model_name": "ProgressStyleModel",
      "state": {
       "_model_module": "@jupyter-widgets/controls",
       "_model_module_version": "1.5.0",
       "_model_name": "ProgressStyleModel",
       "_view_count": null,
       "_view_module": "@jupyter-widgets/base",
       "_view_module_version": "1.2.0",
       "_view_name": "StyleView",
       "bar_color": null,
       "description_width": ""
      }
     },
     "195037c4d56c411e8f9137cfc2bb6e5f": {
      "model_module": "@jupyter-widgets/controls",
      "model_module_version": "1.5.0",
      "model_name": "HTMLModel",
      "state": {
       "_dom_classes": [],
       "_model_module": "@jupyter-widgets/controls",
       "_model_module_version": "1.5.0",
       "_model_name": "HTMLModel",
       "_view_count": null,
       "_view_module": "@jupyter-widgets/controls",
       "_view_module_version": "1.5.0",
       "_view_name": "HTMLView",
       "description": "",
       "description_tooltip": null,
       "layout": "IPY_MODEL_12e893433c0340a7bc914e2f0e5f3e18",
       "placeholder": "​",
       "style": "IPY_MODEL_68b30135de9346e7b6d827b552fdd4f8",
       "value": ""
      }
     },
     "22626c9e6c604b188cc16201b12baa17": {
      "model_module": "@jupyter-widgets/controls",
      "model_module_version": "1.5.0",
      "model_name": "ProgressStyleModel",
      "state": {
       "_model_module": "@jupyter-widgets/controls",
       "_model_module_version": "1.5.0",
       "_model_name": "ProgressStyleModel",
       "_view_count": null,
       "_view_module": "@jupyter-widgets/base",
       "_view_module_version": "1.2.0",
       "_view_name": "StyleView",
       "bar_color": null,
       "description_width": ""
      }
     },
     "2518eb4496f04bc1b783068a2475a7ce": {
      "model_module": "@jupyter-widgets/base",
      "model_module_version": "1.2.0",
      "model_name": "LayoutModel",
      "state": {
       "_model_module": "@jupyter-widgets/base",
       "_model_module_version": "1.2.0",
       "_model_name": "LayoutModel",
       "_view_count": null,
       "_view_module": "@jupyter-widgets/base",
       "_view_module_version": "1.2.0",
       "_view_name": "LayoutView",
       "align_content": null,
       "align_items": null,
       "align_self": null,
       "border": null,
       "bottom": null,
       "display": null,
       "flex": null,
       "flex_flow": null,
       "grid_area": null,
       "grid_auto_columns": null,
       "grid_auto_flow": null,
       "grid_auto_rows": null,
       "grid_column": null,
       "grid_gap": null,
       "grid_row": null,
       "grid_template_areas": null,
       "grid_template_columns": null,
       "grid_template_rows": null,
       "height": null,
       "justify_content": null,
       "justify_items": null,
       "left": null,
       "margin": null,
       "max_height": null,
       "max_width": null,
       "min_height": null,
       "min_width": null,
       "object_fit": null,
       "object_position": null,
       "order": null,
       "overflow": null,
       "overflow_x": null,
       "overflow_y": null,
       "padding": null,
       "right": null,
       "top": null,
       "visibility": null,
       "width": null
      }
     },
     "259b11e57a4745939adbd7a597dedebd": {
      "model_module": "@jupyter-widgets/controls",
      "model_module_version": "1.5.0",
      "model_name": "DescriptionStyleModel",
      "state": {
       "_model_module": "@jupyter-widgets/controls",
       "_model_module_version": "1.5.0",
       "_model_name": "DescriptionStyleModel",
       "_view_count": null,
       "_view_module": "@jupyter-widgets/base",
       "_view_module_version": "1.2.0",
       "_view_name": "StyleView",
       "description_width": ""
      }
     },
     "398b1211d1b24a938f77645f256cdb2d": {
      "model_module": "@jupyter-widgets/controls",
      "model_module_version": "1.5.0",
      "model_name": "FloatProgressModel",
      "state": {
       "_dom_classes": [],
       "_model_module": "@jupyter-widgets/controls",
       "_model_module_version": "1.5.0",
       "_model_name": "FloatProgressModel",
       "_view_count": null,
       "_view_module": "@jupyter-widgets/controls",
       "_view_module_version": "1.5.0",
       "_view_name": "ProgressView",
       "bar_style": "success",
       "description": "",
       "description_tooltip": null,
       "layout": "IPY_MODEL_2518eb4496f04bc1b783068a2475a7ce",
       "max": 4542.0,
       "min": 0.0,
       "orientation": "horizontal",
       "style": "IPY_MODEL_e77cdf75894c4c27b44c8bccf35319cd",
       "value": 4542.0
      }
     },
     "3bff550b91654e66aefcde06ab004d3e": {
      "model_module": "@jupyter-widgets/controls",
      "model_module_version": "1.5.0",
      "model_name": "DescriptionStyleModel",
      "state": {
       "_model_module": "@jupyter-widgets/controls",
       "_model_module_version": "1.5.0",
       "_model_name": "DescriptionStyleModel",
       "_view_count": null,
       "_view_module": "@jupyter-widgets/base",
       "_view_module_version": "1.2.0",
       "_view_name": "StyleView",
       "description_width": ""
      }
     },
     "3ef7b37b6b264e9882a0ea305cd19a97": {
      "model_module": "@jupyter-widgets/controls",
      "model_module_version": "1.5.0",
      "model_name": "DescriptionStyleModel",
      "state": {
       "_model_module": "@jupyter-widgets/controls",
       "_model_module_version": "1.5.0",
       "_model_name": "DescriptionStyleModel",
       "_view_count": null,
       "_view_module": "@jupyter-widgets/base",
       "_view_module_version": "1.2.0",
       "_view_name": "StyleView",
       "description_width": ""
      }
     },
     "43cca41f29004d7da7d604cec55f9df3": {
      "model_module": "@jupyter-widgets/controls",
      "model_module_version": "1.5.0",
      "model_name": "FloatProgressModel",
      "state": {
       "_dom_classes": [],
       "_model_module": "@jupyter-widgets/controls",
       "_model_module_version": "1.5.0",
       "_model_name": "FloatProgressModel",
       "_view_count": null,
       "_view_module": "@jupyter-widgets/controls",
       "_view_module_version": "1.5.0",
       "_view_name": "ProgressView",
       "bar_style": "success",
       "description": "",
       "description_tooltip": null,
       "layout": "IPY_MODEL_93ee06d4c4734f07a680d8acf37952a7",
       "max": 1648877.0,
       "min": 0.0,
       "orientation": "horizontal",
       "style": "IPY_MODEL_47aba56d9d1b4bcc8efe398ed4b61e50",
       "value": 1648877.0
      }
     },
     "44d46bcf82d6486f816773d5f3f8ad62": {
      "model_module": "@jupyter-widgets/base",
      "model_module_version": "1.2.0",
      "model_name": "LayoutModel",
      "state": {
       "_model_module": "@jupyter-widgets/base",
       "_model_module_version": "1.2.0",
       "_model_name": "LayoutModel",
       "_view_count": null,
       "_view_module": "@jupyter-widgets/base",
       "_view_module_version": "1.2.0",
       "_view_name": "LayoutView",
       "align_content": null,
       "align_items": null,
       "align_self": null,
       "border": null,
       "bottom": null,
       "display": null,
       "flex": null,
       "flex_flow": null,
       "grid_area": null,
       "grid_auto_columns": null,
       "grid_auto_flow": null,
       "grid_auto_rows": null,
       "grid_column": null,
       "grid_gap": null,
       "grid_row": null,
       "grid_template_areas": null,
       "grid_template_columns": null,
       "grid_template_rows": null,
       "height": null,
       "justify_content": null,
       "justify_items": null,
       "left": null,
       "margin": null,
       "max_height": null,
       "max_width": null,
       "min_height": null,
       "min_width": null,
       "object_fit": null,
       "object_position": null,
       "order": null,
       "overflow": null,
       "overflow_x": null,
       "overflow_y": null,
       "padding": null,
       "right": null,
       "top": null,
       "visibility": null,
       "width": null
      }
     },
     "47aba56d9d1b4bcc8efe398ed4b61e50": {
      "model_module": "@jupyter-widgets/controls",
      "model_module_version": "1.5.0",
      "model_name": "ProgressStyleModel",
      "state": {
       "_model_module": "@jupyter-widgets/controls",
       "_model_module_version": "1.5.0",
       "_model_name": "ProgressStyleModel",
       "_view_count": null,
       "_view_module": "@jupyter-widgets/base",
       "_view_module_version": "1.2.0",
       "_view_name": "StyleView",
       "bar_color": null,
       "description_width": ""
      }
     },
     "48d35e9420b140108b013886b619a121": {
      "model_module": "@jupyter-widgets/controls",
      "model_module_version": "1.5.0",
      "model_name": "FloatProgressModel",
      "state": {
       "_dom_classes": [],
       "_model_module": "@jupyter-widgets/controls",
       "_model_module_version": "1.5.0",
       "_model_name": "FloatProgressModel",
       "_view_count": null,
       "_view_module": "@jupyter-widgets/controls",
       "_view_module_version": "1.5.0",
       "_view_name": "ProgressView",
       "bar_style": "success",
       "description": "",
       "description_tooltip": null,
       "layout": "IPY_MODEL_ecf7f5efbf0c4abcb4535fe7ae7f4316",
       "max": 9912422.0,
       "min": 0.0,
       "orientation": "horizontal",
       "style": "IPY_MODEL_22626c9e6c604b188cc16201b12baa17",
       "value": 9912422.0
      }
     },
     "5192a1df97fe4be396aa8b50c356f518": {
      "model_module": "@jupyter-widgets/base",
      "model_module_version": "1.2.0",
      "model_name": "LayoutModel",
      "state": {
       "_model_module": "@jupyter-widgets/base",
       "_model_module_version": "1.2.0",
       "_model_name": "LayoutModel",
       "_view_count": null,
       "_view_module": "@jupyter-widgets/base",
       "_view_module_version": "1.2.0",
       "_view_name": "LayoutView",
       "align_content": null,
       "align_items": null,
       "align_self": null,
       "border": null,
       "bottom": null,
       "display": null,
       "flex": null,
       "flex_flow": null,
       "grid_area": null,
       "grid_auto_columns": null,
       "grid_auto_flow": null,
       "grid_auto_rows": null,
       "grid_column": null,
       "grid_gap": null,
       "grid_row": null,
       "grid_template_areas": null,
       "grid_template_columns": null,
       "grid_template_rows": null,
       "height": null,
       "justify_content": null,
       "justify_items": null,
       "left": null,
       "margin": null,
       "max_height": null,
       "max_width": null,
       "min_height": null,
       "min_width": null,
       "object_fit": null,
       "object_position": null,
       "order": null,
       "overflow": null,
       "overflow_x": null,
       "overflow_y": null,
       "padding": null,
       "right": null,
       "top": null,
       "visibility": null,
       "width": null
      }
     },
     "562160c59e6f43d8a208e05d0ac1f13c": {
      "model_module": "@jupyter-widgets/controls",
      "model_module_version": "1.5.0",
      "model_name": "HTMLModel",
      "state": {
       "_dom_classes": [],
       "_model_module": "@jupyter-widgets/controls",
       "_model_module_version": "1.5.0",
       "_model_name": "HTMLModel",
       "_view_count": null,
       "_view_module": "@jupyter-widgets/controls",
       "_view_module_version": "1.5.0",
       "_view_name": "HTMLView",
       "description": "",
       "description_tooltip": null,
       "layout": "IPY_MODEL_f703ca97f9f74ed9808d87c13ca586ca",
       "placeholder": "​",
       "style": "IPY_MODEL_e87aaf1bb5784a9daf36a64afb1b039a",
       "value": ""
      }
     },
     "58b309214d6d49a5afeefe4e12cb80e0": {
      "model_module": "@jupyter-widgets/base",
      "model_module_version": "1.2.0",
      "model_name": "LayoutModel",
      "state": {
       "_model_module": "@jupyter-widgets/base",
       "_model_module_version": "1.2.0",
       "_model_name": "LayoutModel",
       "_view_count": null,
       "_view_module": "@jupyter-widgets/base",
       "_view_module_version": "1.2.0",
       "_view_name": "LayoutView",
       "align_content": null,
       "align_items": null,
       "align_self": null,
       "border": null,
       "bottom": null,
       "display": null,
       "flex": null,
       "flex_flow": null,
       "grid_area": null,
       "grid_auto_columns": null,
       "grid_auto_flow": null,
       "grid_auto_rows": null,
       "grid_column": null,
       "grid_gap": null,
       "grid_row": null,
       "grid_template_areas": null,
       "grid_template_columns": null,
       "grid_template_rows": null,
       "height": null,
       "justify_content": null,
       "justify_items": null,
       "left": null,
       "margin": null,
       "max_height": null,
       "max_width": null,
       "min_height": null,
       "min_width": null,
       "object_fit": null,
       "object_position": null,
       "order": null,
       "overflow": null,
       "overflow_x": null,
       "overflow_y": null,
       "padding": null,
       "right": null,
       "top": null,
       "visibility": null,
       "width": null
      }
     },
     "5f42ff48ae5c46d6ab538dfa4083499f": {
      "model_module": "@jupyter-widgets/controls",
      "model_module_version": "1.5.0",
      "model_name": "HTMLModel",
      "state": {
       "_dom_classes": [],
       "_model_module": "@jupyter-widgets/controls",
       "_model_module_version": "1.5.0",
       "_model_name": "HTMLModel",
       "_view_count": null,
       "_view_module": "@jupyter-widgets/controls",
       "_view_module_version": "1.5.0",
       "_view_name": "HTMLView",
       "description": "",
       "description_tooltip": null,
       "layout": "IPY_MODEL_58b309214d6d49a5afeefe4e12cb80e0",
       "placeholder": "​",
       "style": "IPY_MODEL_600ebf344365490eaf6a108b18f1c6d4",
       "value": " 1649664/? [00:00&lt;00:00, 19325247.57it/s]"
      }
     },
     "600ebf344365490eaf6a108b18f1c6d4": {
      "model_module": "@jupyter-widgets/controls",
      "model_module_version": "1.5.0",
      "model_name": "DescriptionStyleModel",
      "state": {
       "_model_module": "@jupyter-widgets/controls",
       "_model_module_version": "1.5.0",
       "_model_name": "DescriptionStyleModel",
       "_view_count": null,
       "_view_module": "@jupyter-widgets/base",
       "_view_module_version": "1.2.0",
       "_view_name": "StyleView",
       "description_width": ""
      }
     },
     "68b30135de9346e7b6d827b552fdd4f8": {
      "model_module": "@jupyter-widgets/controls",
      "model_module_version": "1.5.0",
      "model_name": "DescriptionStyleModel",
      "state": {
       "_model_module": "@jupyter-widgets/controls",
       "_model_module_version": "1.5.0",
       "_model_name": "DescriptionStyleModel",
       "_view_count": null,
       "_view_module": "@jupyter-widgets/base",
       "_view_module_version": "1.2.0",
       "_view_name": "StyleView",
       "description_width": ""
      }
     },
     "6fed199ede744c6a850aff2289043d93": {
      "model_module": "@jupyter-widgets/controls",
      "model_module_version": "1.5.0",
      "model_name": "HBoxModel",
      "state": {
       "_dom_classes": [],
       "_model_module": "@jupyter-widgets/controls",
       "_model_module_version": "1.5.0",
       "_model_name": "HBoxModel",
       "_view_count": null,
       "_view_module": "@jupyter-widgets/controls",
       "_view_module_version": "1.5.0",
       "_view_name": "HBoxView",
       "box_style": "",
       "children": [
        "IPY_MODEL_05fa833e313e4ca98220d472e69dbf03",
        "IPY_MODEL_fbcca365a3584f03964069424371c146",
        "IPY_MODEL_ef99a76f36bd4b0bb6d5a8ad682b18a5"
       ],
       "layout": "IPY_MODEL_13f2e07b0f1b47f9a64d7beeaf70fa48"
      }
     },
     "85949ae825a6462f9f06c98bd5ed84df": {
      "model_module": "@jupyter-widgets/base",
      "model_module_version": "1.2.0",
      "model_name": "LayoutModel",
      "state": {
       "_model_module": "@jupyter-widgets/base",
       "_model_module_version": "1.2.0",
       "_model_name": "LayoutModel",
       "_view_count": null,
       "_view_module": "@jupyter-widgets/base",
       "_view_module_version": "1.2.0",
       "_view_name": "LayoutView",
       "align_content": null,
       "align_items": null,
       "align_self": null,
       "border": null,
       "bottom": null,
       "display": null,
       "flex": null,
       "flex_flow": null,
       "grid_area": null,
       "grid_auto_columns": null,
       "grid_auto_flow": null,
       "grid_auto_rows": null,
       "grid_column": null,
       "grid_gap": null,
       "grid_row": null,
       "grid_template_areas": null,
       "grid_template_columns": null,
       "grid_template_rows": null,
       "height": null,
       "justify_content": null,
       "justify_items": null,
       "left": null,
       "margin": null,
       "max_height": null,
       "max_width": null,
       "min_height": null,
       "min_width": null,
       "object_fit": null,
       "object_position": null,
       "order": null,
       "overflow": null,
       "overflow_x": null,
       "overflow_y": null,
       "padding": null,
       "right": null,
       "top": null,
       "visibility": null,
       "width": null
      }
     },
     "92a27c3fda0f4a43be7e8400c0b406ad": {
      "model_module": "@jupyter-widgets/base",
      "model_module_version": "1.2.0",
      "model_name": "LayoutModel",
      "state": {
       "_model_module": "@jupyter-widgets/base",
       "_model_module_version": "1.2.0",
       "_model_name": "LayoutModel",
       "_view_count": null,
       "_view_module": "@jupyter-widgets/base",
       "_view_module_version": "1.2.0",
       "_view_name": "LayoutView",
       "align_content": null,
       "align_items": null,
       "align_self": null,
       "border": null,
       "bottom": null,
       "display": null,
       "flex": null,
       "flex_flow": null,
       "grid_area": null,
       "grid_auto_columns": null,
       "grid_auto_flow": null,
       "grid_auto_rows": null,
       "grid_column": null,
       "grid_gap": null,
       "grid_row": null,
       "grid_template_areas": null,
       "grid_template_columns": null,
       "grid_template_rows": null,
       "height": null,
       "justify_content": null,
       "justify_items": null,
       "left": null,
       "margin": null,
       "max_height": null,
       "max_width": null,
       "min_height": null,
       "min_width": null,
       "object_fit": null,
       "object_position": null,
       "order": null,
       "overflow": null,
       "overflow_x": null,
       "overflow_y": null,
       "padding": null,
       "right": null,
       "top": null,
       "visibility": null,
       "width": null
      }
     },
     "93ee06d4c4734f07a680d8acf37952a7": {
      "model_module": "@jupyter-widgets/base",
      "model_module_version": "1.2.0",
      "model_name": "LayoutModel",
      "state": {
       "_model_module": "@jupyter-widgets/base",
       "_model_module_version": "1.2.0",
       "_model_name": "LayoutModel",
       "_view_count": null,
       "_view_module": "@jupyter-widgets/base",
       "_view_module_version": "1.2.0",
       "_view_name": "LayoutView",
       "align_content": null,
       "align_items": null,
       "align_self": null,
       "border": null,
       "bottom": null,
       "display": null,
       "flex": null,
       "flex_flow": null,
       "grid_area": null,
       "grid_auto_columns": null,
       "grid_auto_flow": null,
       "grid_auto_rows": null,
       "grid_column": null,
       "grid_gap": null,
       "grid_row": null,
       "grid_template_areas": null,
       "grid_template_columns": null,
       "grid_template_rows": null,
       "height": null,
       "justify_content": null,
       "justify_items": null,
       "left": null,
       "margin": null,
       "max_height": null,
       "max_width": null,
       "min_height": null,
       "min_width": null,
       "object_fit": null,
       "object_position": null,
       "order": null,
       "overflow": null,
       "overflow_x": null,
       "overflow_y": null,
       "padding": null,
       "right": null,
       "top": null,
       "visibility": null,
       "width": null
      }
     },
     "b3712f31fbd64fae831c44ff24b5a08f": {
      "model_module": "@jupyter-widgets/base",
      "model_module_version": "1.2.0",
      "model_name": "LayoutModel",
      "state": {
       "_model_module": "@jupyter-widgets/base",
       "_model_module_version": "1.2.0",
       "_model_name": "LayoutModel",
       "_view_count": null,
       "_view_module": "@jupyter-widgets/base",
       "_view_module_version": "1.2.0",
       "_view_name": "LayoutView",
       "align_content": null,
       "align_items": null,
       "align_self": null,
       "border": null,
       "bottom": null,
       "display": null,
       "flex": null,
       "flex_flow": null,
       "grid_area": null,
       "grid_auto_columns": null,
       "grid_auto_flow": null,
       "grid_auto_rows": null,
       "grid_column": null,
       "grid_gap": null,
       "grid_row": null,
       "grid_template_areas": null,
       "grid_template_columns": null,
       "grid_template_rows": null,
       "height": null,
       "justify_content": null,
       "justify_items": null,
       "left": null,
       "margin": null,
       "max_height": null,
       "max_width": null,
       "min_height": null,
       "min_width": null,
       "object_fit": null,
       "object_position": null,
       "order": null,
       "overflow": null,
       "overflow_x": null,
       "overflow_y": null,
       "padding": null,
       "right": null,
       "top": null,
       "visibility": null,
       "width": null
      }
     },
     "b6f61dce12b34197a4d0cda564fb9a1e": {
      "model_module": "@jupyter-widgets/controls",
      "model_module_version": "1.5.0",
      "model_name": "HBoxModel",
      "state": {
       "_dom_classes": [],
       "_model_module": "@jupyter-widgets/controls",
       "_model_module_version": "1.5.0",
       "_model_name": "HBoxModel",
       "_view_count": null,
       "_view_module": "@jupyter-widgets/controls",
       "_view_module_version": "1.5.0",
       "_view_name": "HBoxView",
       "box_style": "",
       "children": [
        "IPY_MODEL_195037c4d56c411e8f9137cfc2bb6e5f",
        "IPY_MODEL_48d35e9420b140108b013886b619a121",
        "IPY_MODEL_0aa2009947e640d49032fece6132d430"
       ],
       "layout": "IPY_MODEL_b3712f31fbd64fae831c44ff24b5a08f"
      }
     },
     "b952c70d1c1f4b7d84f4bfc706f17258": {
      "model_module": "@jupyter-widgets/base",
      "model_module_version": "1.2.0",
      "model_name": "LayoutModel",
      "state": {
       "_model_module": "@jupyter-widgets/base",
       "_model_module_version": "1.2.0",
       "_model_name": "LayoutModel",
       "_view_count": null,
       "_view_module": "@jupyter-widgets/base",
       "_view_module_version": "1.2.0",
       "_view_name": "LayoutView",
       "align_content": null,
       "align_items": null,
       "align_self": null,
       "border": null,
       "bottom": null,
       "display": null,
       "flex": null,
       "flex_flow": null,
       "grid_area": null,
       "grid_auto_columns": null,
       "grid_auto_flow": null,
       "grid_auto_rows": null,
       "grid_column": null,
       "grid_gap": null,
       "grid_row": null,
       "grid_template_areas": null,
       "grid_template_columns": null,
       "grid_template_rows": null,
       "height": null,
       "justify_content": null,
       "justify_items": null,
       "left": null,
       "margin": null,
       "max_height": null,
       "max_width": null,
       "min_height": null,
       "min_width": null,
       "object_fit": null,
       "object_position": null,
       "order": null,
       "overflow": null,
       "overflow_x": null,
       "overflow_y": null,
       "padding": null,
       "right": null,
       "top": null,
       "visibility": null,
       "width": null
      }
     },
     "c471922b44184085a3ef0a76865d430b": {
      "model_module": "@jupyter-widgets/base",
      "model_module_version": "1.2.0",
      "model_name": "LayoutModel",
      "state": {
       "_model_module": "@jupyter-widgets/base",
       "_model_module_version": "1.2.0",
       "_model_name": "LayoutModel",
       "_view_count": null,
       "_view_module": "@jupyter-widgets/base",
       "_view_module_version": "1.2.0",
       "_view_name": "LayoutView",
       "align_content": null,
       "align_items": null,
       "align_self": null,
       "border": null,
       "bottom": null,
       "display": null,
       "flex": null,
       "flex_flow": null,
       "grid_area": null,
       "grid_auto_columns": null,
       "grid_auto_flow": null,
       "grid_auto_rows": null,
       "grid_column": null,
       "grid_gap": null,
       "grid_row": null,
       "grid_template_areas": null,
       "grid_template_columns": null,
       "grid_template_rows": null,
       "height": null,
       "justify_content": null,
       "justify_items": null,
       "left": null,
       "margin": null,
       "max_height": null,
       "max_width": null,
       "min_height": null,
       "min_width": null,
       "object_fit": null,
       "object_position": null,
       "order": null,
       "overflow": null,
       "overflow_x": null,
       "overflow_y": null,
       "padding": null,
       "right": null,
       "top": null,
       "visibility": null,
       "width": null
      }
     },
     "cbbc54b6117d4c03a8c2097000464d89": {
      "model_module": "@jupyter-widgets/base",
      "model_module_version": "1.2.0",
      "model_name": "LayoutModel",
      "state": {
       "_model_module": "@jupyter-widgets/base",
       "_model_module_version": "1.2.0",
       "_model_name": "LayoutModel",
       "_view_count": null,
       "_view_module": "@jupyter-widgets/base",
       "_view_module_version": "1.2.0",
       "_view_name": "LayoutView",
       "align_content": null,
       "align_items": null,
       "align_self": null,
       "border": null,
       "bottom": null,
       "display": null,
       "flex": null,
       "flex_flow": null,
       "grid_area": null,
       "grid_auto_columns": null,
       "grid_auto_flow": null,
       "grid_auto_rows": null,
       "grid_column": null,
       "grid_gap": null,
       "grid_row": null,
       "grid_template_areas": null,
       "grid_template_columns": null,
       "grid_template_rows": null,
       "height": null,
       "justify_content": null,
       "justify_items": null,
       "left": null,
       "margin": null,
       "max_height": null,
       "max_width": null,
       "min_height": null,
       "min_width": null,
       "object_fit": null,
       "object_position": null,
       "order": null,
       "overflow": null,
       "overflow_x": null,
       "overflow_y": null,
       "padding": null,
       "right": null,
       "top": null,
       "visibility": null,
       "width": null
      }
     },
     "d19268a1525542b292c9ff14c67e1dbb": {
      "model_module": "@jupyter-widgets/controls",
      "model_module_version": "1.5.0",
      "model_name": "DescriptionStyleModel",
      "state": {
       "_model_module": "@jupyter-widgets/controls",
       "_model_module_version": "1.5.0",
       "_model_name": "DescriptionStyleModel",
       "_view_count": null,
       "_view_module": "@jupyter-widgets/base",
       "_view_module_version": "1.2.0",
       "_view_name": "StyleView",
       "description_width": ""
      }
     },
     "e77cdf75894c4c27b44c8bccf35319cd": {
      "model_module": "@jupyter-widgets/controls",
      "model_module_version": "1.5.0",
      "model_name": "ProgressStyleModel",
      "state": {
       "_model_module": "@jupyter-widgets/controls",
       "_model_module_version": "1.5.0",
       "_model_name": "ProgressStyleModel",
       "_view_count": null,
       "_view_module": "@jupyter-widgets/base",
       "_view_module_version": "1.2.0",
       "_view_name": "StyleView",
       "bar_color": null,
       "description_width": ""
      }
     },
     "e86bc0230b774ae6a464c5f8313a7250": {
      "model_module": "@jupyter-widgets/controls",
      "model_module_version": "1.5.0",
      "model_name": "DescriptionStyleModel",
      "state": {
       "_model_module": "@jupyter-widgets/controls",
       "_model_module_version": "1.5.0",
       "_model_name": "DescriptionStyleModel",
       "_view_count": null,
       "_view_module": "@jupyter-widgets/base",
       "_view_module_version": "1.2.0",
       "_view_name": "StyleView",
       "description_width": ""
      }
     },
     "e87aaf1bb5784a9daf36a64afb1b039a": {
      "model_module": "@jupyter-widgets/controls",
      "model_module_version": "1.5.0",
      "model_name": "DescriptionStyleModel",
      "state": {
       "_model_module": "@jupyter-widgets/controls",
       "_model_module_version": "1.5.0",
       "_model_name": "DescriptionStyleModel",
       "_view_count": null,
       "_view_module": "@jupyter-widgets/base",
       "_view_module_version": "1.2.0",
       "_view_name": "StyleView",
       "description_width": ""
      }
     },
     "e8adf17ca33445ffa45685a60f3c5302": {
      "model_module": "@jupyter-widgets/controls",
      "model_module_version": "1.5.0",
      "model_name": "HBoxModel",
      "state": {
       "_dom_classes": [],
       "_model_module": "@jupyter-widgets/controls",
       "_model_module_version": "1.5.0",
       "_model_name": "HBoxModel",
       "_view_count": null,
       "_view_module": "@jupyter-widgets/controls",
       "_view_module_version": "1.5.0",
       "_view_name": "HBoxView",
       "box_style": "",
       "children": [
        "IPY_MODEL_562160c59e6f43d8a208e05d0ac1f13c",
        "IPY_MODEL_398b1211d1b24a938f77645f256cdb2d",
        "IPY_MODEL_0da5e86fe45543d2b2fe78faf31de09d"
       ],
       "layout": "IPY_MODEL_92a27c3fda0f4a43be7e8400c0b406ad"
      }
     },
     "ecf7f5efbf0c4abcb4535fe7ae7f4316": {
      "model_module": "@jupyter-widgets/base",
      "model_module_version": "1.2.0",
      "model_name": "LayoutModel",
      "state": {
       "_model_module": "@jupyter-widgets/base",
       "_model_module_version": "1.2.0",
       "_model_name": "LayoutModel",
       "_view_count": null,
       "_view_module": "@jupyter-widgets/base",
       "_view_module_version": "1.2.0",
       "_view_name": "LayoutView",
       "align_content": null,
       "align_items": null,
       "align_self": null,
       "border": null,
       "bottom": null,
       "display": null,
       "flex": null,
       "flex_flow": null,
       "grid_area": null,
       "grid_auto_columns": null,
       "grid_auto_flow": null,
       "grid_auto_rows": null,
       "grid_column": null,
       "grid_gap": null,
       "grid_row": null,
       "grid_template_areas": null,
       "grid_template_columns": null,
       "grid_template_rows": null,
       "height": null,
       "justify_content": null,
       "justify_items": null,
       "left": null,
       "margin": null,
       "max_height": null,
       "max_width": null,
       "min_height": null,
       "min_width": null,
       "object_fit": null,
       "object_position": null,
       "order": null,
       "overflow": null,
       "overflow_x": null,
       "overflow_y": null,
       "padding": null,
       "right": null,
       "top": null,
       "visibility": null,
       "width": null
      }
     },
     "ef99a76f36bd4b0bb6d5a8ad682b18a5": {
      "model_module": "@jupyter-widgets/controls",
      "model_module_version": "1.5.0",
      "model_name": "HTMLModel",
      "state": {
       "_dom_classes": [],
       "_model_module": "@jupyter-widgets/controls",
       "_model_module_version": "1.5.0",
       "_model_name": "HTMLModel",
       "_view_count": null,
       "_view_module": "@jupyter-widgets/controls",
       "_view_module_version": "1.5.0",
       "_view_name": "HTMLView",
       "description": "",
       "description_tooltip": null,
       "layout": "IPY_MODEL_b952c70d1c1f4b7d84f4bfc706f17258",
       "placeholder": "​",
       "style": "IPY_MODEL_3bff550b91654e66aefcde06ab004d3e",
       "value": " 29696/? [00:00&lt;00:00, 1262956.69it/s]"
      }
     },
     "f4e5005e68354502ad4ce6b1eec0ec70": {
      "model_module": "@jupyter-widgets/base",
      "model_module_version": "1.2.0",
      "model_name": "LayoutModel",
      "state": {
       "_model_module": "@jupyter-widgets/base",
       "_model_module_version": "1.2.0",
       "_model_name": "LayoutModel",
       "_view_count": null,
       "_view_module": "@jupyter-widgets/base",
       "_view_module_version": "1.2.0",
       "_view_name": "LayoutView",
       "align_content": null,
       "align_items": null,
       "align_self": null,
       "border": null,
       "bottom": null,
       "display": null,
       "flex": null,
       "flex_flow": null,
       "grid_area": null,
       "grid_auto_columns": null,
       "grid_auto_flow": null,
       "grid_auto_rows": null,
       "grid_column": null,
       "grid_gap": null,
       "grid_row": null,
       "grid_template_areas": null,
       "grid_template_columns": null,
       "grid_template_rows": null,
       "height": null,
       "justify_content": null,
       "justify_items": null,
       "left": null,
       "margin": null,
       "max_height": null,
       "max_width": null,
       "min_height": null,
       "min_width": null,
       "object_fit": null,
       "object_position": null,
       "order": null,
       "overflow": null,
       "overflow_x": null,
       "overflow_y": null,
       "padding": null,
       "right": null,
       "top": null,
       "visibility": null,
       "width": null
      }
     },
     "f703ca97f9f74ed9808d87c13ca586ca": {
      "model_module": "@jupyter-widgets/base",
      "model_module_version": "1.2.0",
      "model_name": "LayoutModel",
      "state": {
       "_model_module": "@jupyter-widgets/base",
       "_model_module_version": "1.2.0",
       "_model_name": "LayoutModel",
       "_view_count": null,
       "_view_module": "@jupyter-widgets/base",
       "_view_module_version": "1.2.0",
       "_view_name": "LayoutView",
       "align_content": null,
       "align_items": null,
       "align_self": null,
       "border": null,
       "bottom": null,
       "display": null,
       "flex": null,
       "flex_flow": null,
       "grid_area": null,
       "grid_auto_columns": null,
       "grid_auto_flow": null,
       "grid_auto_rows": null,
       "grid_column": null,
       "grid_gap": null,
       "grid_row": null,
       "grid_template_areas": null,
       "grid_template_columns": null,
       "grid_template_rows": null,
       "height": null,
       "justify_content": null,
       "justify_items": null,
       "left": null,
       "margin": null,
       "max_height": null,
       "max_width": null,
       "min_height": null,
       "min_width": null,
       "object_fit": null,
       "object_position": null,
       "order": null,
       "overflow": null,
       "overflow_x": null,
       "overflow_y": null,
       "padding": null,
       "right": null,
       "top": null,
       "visibility": null,
       "width": null
      }
     },
     "f8aefec7c15e4bd9bda8a888003bf2c1": {
      "model_module": "@jupyter-widgets/controls",
      "model_module_version": "1.5.0",
      "model_name": "HTMLModel",
      "state": {
       "_dom_classes": [],
       "_model_module": "@jupyter-widgets/controls",
       "_model_module_version": "1.5.0",
       "_model_name": "HTMLModel",
       "_view_count": null,
       "_view_module": "@jupyter-widgets/controls",
       "_view_module_version": "1.5.0",
       "_view_name": "HTMLView",
       "description": "",
       "description_tooltip": null,
       "layout": "IPY_MODEL_85949ae825a6462f9f06c98bd5ed84df",
       "placeholder": "​",
       "style": "IPY_MODEL_d19268a1525542b292c9ff14c67e1dbb",
       "value": ""
      }
     },
     "faeb5c4d6d4c480da6bbdb3954f2a185": {
      "model_module": "@jupyter-widgets/controls",
      "model_module_version": "1.5.0",
      "model_name": "HBoxModel",
      "state": {
       "_dom_classes": [],
       "_model_module": "@jupyter-widgets/controls",
       "_model_module_version": "1.5.0",
       "_model_name": "HBoxModel",
       "_view_count": null,
       "_view_module": "@jupyter-widgets/controls",
       "_view_module_version": "1.5.0",
       "_view_name": "HBoxView",
       "box_style": "",
       "children": [
        "IPY_MODEL_f8aefec7c15e4bd9bda8a888003bf2c1",
        "IPY_MODEL_43cca41f29004d7da7d604cec55f9df3",
        "IPY_MODEL_5f42ff48ae5c46d6ab538dfa4083499f"
       ],
       "layout": "IPY_MODEL_44d46bcf82d6486f816773d5f3f8ad62"
      }
     },
     "fbcca365a3584f03964069424371c146": {
      "model_module": "@jupyter-widgets/controls",
      "model_module_version": "1.5.0",
      "model_name": "FloatProgressModel",
      "state": {
       "_dom_classes": [],
       "_model_module": "@jupyter-widgets/controls",
       "_model_module_version": "1.5.0",
       "_model_name": "FloatProgressModel",
       "_view_count": null,
       "_view_module": "@jupyter-widgets/controls",
       "_view_module_version": "1.5.0",
       "_view_name": "ProgressView",
       "bar_style": "success",
       "description": "",
       "description_tooltip": null,
       "layout": "IPY_MODEL_f4e5005e68354502ad4ce6b1eec0ec70",
       "max": 28881.0,
       "min": 0.0,
       "orientation": "horizontal",
       "style": "IPY_MODEL_179283c5bb6d4fc799f69fdb77a4b743",
       "value": 28881.0
      }
     }
    },
    "version_major": 2,
    "version_minor": 0
   }
  }
 },
 "nbformat": 4,
 "nbformat_minor": 5
}
